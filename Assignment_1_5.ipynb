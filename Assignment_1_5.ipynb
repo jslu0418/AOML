{
 "cells": [
  {
   "cell_type": "markdown",
   "metadata": {},
   "source": [
    "# Question 5"
   ]
  },
  {
   "cell_type": "code",
   "execution_count": null,
   "metadata": {},
   "outputs": [],
   "source": [
    "import numpy as np\n",
    "\n",
    "def assignment_5_1(x):\n",
    "    '''\n",
    "    Assignment 5.1\n",
    "    return numerical correct version of L(x)=log(1+exp(-x))\n",
    "    to avoid infinite large overflow of exp\n",
    "    we can also return log(1+exp(-x)) if x>=0\n",
    "    and since 1+exp(-x) = (exp(x)+1)/(exp(x))\n",
    "    so we can return log(1+exp(x)) - log(exp(x)) = log(1+exp(x)) - x if (x<0)\n",
    "    '''\n",
    "    # return np.log(1+np.exp(-x)) if x>0 else np.log(1+np.exp(x)) - x\n",
    "    return np.logaddexp(0, -x)\n",
    "\n",
    "def assignment_5_2(x1, x2):\n",
    "    '''\n",
    "    Assignment 5.2\n",
    "    return numberical correct version of L(x)=log(exp(x_1)+exp(x_2))\n",
    "    '''\n",
    "    # return x1+np.log(1+np.exp(x2-x1)) if x2<x1 else x2 + np.log(1+np.exp(x1-x2))\n",
    "    return np.logaddexp(x1, x2)\n",
    "\n",
    "def assignment_5_3(x1, x2):\n",
    "    '''\n",
    "    Assignment 5.3\n",
    "    return numberical correct version of L(x)=\\frac{exp(x_1)}{exp(x_1)+exp(x_2)}\n",
    "    equals to exp(log(L(x))) = exp(x_1 - log(exp(x_1) + exp(x_2)))\n",
    "    '''\n",
    "    # return 1/(1+np.exp(x2-x1)) if x2<x1 else np.exp(x1-x2)/(1+np.exp(x1-x2))\n",
    "    return np.exp(x1-np.logaddexp(x1, x2))"
   ]
  }
 ],
 "metadata": {
  "kernelspec": {
   "display_name": "Python 2",
   "language": "python",
   "name": "python2"
  },
  "language_info": {
   "codemirror_mode": {
    "name": "ipython",
    "version": 2
   },
   "file_extension": ".py",
   "mimetype": "text/x-python",
   "name": "python",
   "nbconvert_exporter": "python",
   "pygments_lexer": "ipython2",
   "version": "2.7.17"
  }
 },
 "nbformat": 4,
 "nbformat_minor": 2
}
